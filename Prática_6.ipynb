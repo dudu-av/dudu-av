{
  "cells": [
    {
      "cell_type": "markdown",
      "metadata": {
        "id": "view-in-github",
        "colab_type": "text"
      },
      "source": [
        "<a href=\"https://colab.research.google.com/github/dudu-av/dudu-av/blob/main/Pr%C3%A1tica_6.ipynb\" target=\"_parent\"><img src=\"https://colab.research.google.com/assets/colab-badge.svg\" alt=\"Open In Colab\"/></a>"
      ]
    },
    {
      "cell_type": "markdown",
      "id": "9670e332-a9e3-40c4-820b-672df9f11475",
      "metadata": {
        "id": "9670e332-a9e3-40c4-820b-672df9f11475"
      },
      "source": [
        "# Prática 6\n",
        "\n",
        "## Aprendendo a utilizar o **Jupiter Notebook**\n",
        "\n",
        "O Markdown do Jupyter é poderoso! Ele permite escrever fórmulas como a de *Bháskara*!\n",
        "\n",
        "$ x = \\dfrac{-b \\pm \\sqrt{\\Delta}}{2a} $\n",
        "\n",
        "Ele também permite permite escrever um texto como se fosse um `código` de um programa!\n",
        "\n",
        "```\n",
        "a = 'hello'\n",
        "b = 'world'\n",
        "print(f'{a} {b}!')\n",
        "```\n",
        "\n",
        "Quer fazer uma lista? Dá pra fazer uma lista simples ou enumerada!\n",
        "\n",
        "- Isso é um item\n",
        "    - Isso é um subitem\n",
        "\n",
        "1. Esse é o primeiro elemento\n",
        "2. Esse é o segundo\n",
        "    1. Tem como fazer subitem aqui também!\n",
        "4. Advininha! Esse é o terceiro!\n",
        "\n",
        "*Dá pra separar uma parte da outra?* **Sim!** Basta traçar uma linha horizontal!\n",
        "\n",
        "***\n",
        "\n",
        "*Mas e se o código ficar muito grande? Vai ter que descer tudo?* Claro que não! Você poder fazer até um índice clicável!\n",
        "\n",
        "1. [Prática 6](#Prática-6)\n",
        "2. [Segunda seção](#Segunda-seção)\n",
        "3. [Terceira seção](#Terceira-seção)\n",
        "\n",
        "*Aposto como não dá pra fazer um link pra algo que tá fora do notebook.* Aí que você se engana, meu amigo! Vê só:\n",
        "\n",
        "- __[Um dia qualquer no litoral cearense](https://paradisoturismo.com.br/wp-content/uploads/2022/01/ceara-32.jpg)__\n",
        "- __[Um dia qualquer no interior cearense](https://consorcionordeste.gov.br/storage/Website/Noticia/2023/10/03/eS1BLB4Xe8wW0DM4aMJYfEtrmVNXn1-metaQ0hBUEFEQV9ET19BUkFSSVBFXzA0LmpwZw==-.jpg)__\n",
        "- __[Um dia qualquer no sertão cearense](https://live.staticflickr.com/5181/5751552850_2a08223a75_b.jpg)__"
      ]
    },
    {
      "cell_type": "code",
      "execution_count": null,
      "id": "cc0b4c31-840c-46f2-9ced-91f0ead76a05",
      "metadata": {
        "id": "cc0b4c31-840c-46f2-9ced-91f0ead76a05"
      },
      "outputs": [],
      "source": [
        "a = '''Lorem ipsum dolor sit amet, consectetur adipiscing elit. Phasellus luctus leo ut molestie sagittis. Ut id sem vitae augue tincidunt posuere efficitur vel mi. Vestibulum sollicitudin malesuada volutpat. Vivamus a odio nunc. Morbi et eros rhoncus, posuere ipsum vehicula, consectetur turpis. Morbi sed vulputate arcu, id lacinia mauris. Proin metus nisl, sollicitudin non sollicitudin quis, aliquam eu sapien. Aenean gravida volutpat libero commodo mattis. Praesent ultrices, velit sit amet elementum accumsan, nulla diam condimentum elit, a tristique sapien augue eget nunc. Suspendisse blandit enim mi, et tempor tellus iaculis vel.\n",
        "\n",
        "Sed lectus mauris, tristique eu tincidunt tristique, rutrum eget libero. Proin id mauris auctor, sodales dolor id, scelerisque urna. Nunc sed dictum lacus. Aenean venenatis quis velit sed ultrices. Aenean elementum eleifend nunc quis sagittis. Nunc bibendum orci sit amet elit mattis maximus. Nullam nec lectus at mauris eleifend mollis in in quam.\n",
        "\n",
        "In et eleifend augue. Duis sodales tortor sed enim maximus, a pretium diam laoreet. Fusce sed sapien ac ex sodales rutrum. Donec id eros nec sapien gravida dapibus sodales sed leo. Phasellus vel ligula id massa pulvinar ullamcorper. Mauris mauris mauris, congue id enim at, condimentum interdum metus. Maecenas sollicitudin sapien ut blandit dapibus.\n",
        "\n",
        "Suspendisse consequat finibus nibh. Pellentesque ac condimentum tellus. Etiam interdum nibh vel massa semper feugiat. Fusce ut viverra urna. Praesent vel enim sapien. Mauris nisl odio, luctus vitae sapien nec, rhoncus faucibus erat. Sed eu molestie quam, id tristique turpis. Maecenas volutpat ex quis risus dictum, nec mattis nisi condimentum. Suspendisse consectetur, est eget tincidunt scelerisque, nulla mi sodales metus, ac sagittis augue nunc sit amet nibh. Vestibulum viverra tempor nisi at dapibus. Nulla eleifend tortor tortor, quis accumsan elit venenatis pulvinar. Nulla pharetra non lorem vel accumsan. Nam malesuada lacus a metus faucibus, quis sagittis quam lacinia. Nam ornare condimentum pulvinar. Suspendisse a magna interdum, luctus metus vel, iaculis erat. Praesent luctus eleifend feugiat.\n",
        "\n",
        "Suspendisse potenti. Nunc nec cursus urna. Fusce iaculis elit ac auctor sollicitudin. Proin quis lectus ut lacus placerat efficitur varius non dolor. Ut ullamcorper quam ut turpis placerat hendrerit. Sed id urna ut arcu vulputate facilisis eget ut tellus. Vivamus cursus purus dignissim, porttitor quam vitae, aliquam arcu. Nam ac lorem et nunc lacinia lacinia vel non mi. Donec efficitur id diam sed ornare. Ut egestas sapien eget sem auctor auctor. Suspendisse mollis elit magna, sit amet efficitur enim bibendum eget. Suspendisse varius lorem vitae sapien efficitur, sed dignissim lacus lobortis.'''"
      ]
    },
    {
      "cell_type": "code",
      "execution_count": null,
      "id": "c3499090-ac59-4e73-bef9-2aef9c953a2b",
      "metadata": {
        "id": "c3499090-ac59-4e73-bef9-2aef9c953a2b"
      },
      "outputs": [],
      "source": [
        "b = '\\n'.join([\n",
        "    a[50 * x : 50 * (x + 1) if 50 * (x + 1) < len(a) else -1]\n",
        "    for x in range(len(a) // 50 + 1)\n",
        "])"
      ]
    },
    {
      "cell_type": "code",
      "execution_count": null,
      "id": "45026284-5ff6-4393-bbae-12634ed3c4cd",
      "metadata": {
        "id": "45026284-5ff6-4393-bbae-12634ed3c4cd",
        "outputId": "392b1ebe-6044-4adc-9d6c-9b884a7c3686"
      },
      "outputs": [
        {
          "name": "stdout",
          "output_type": "stream",
          "text": [
            "Lorem ipsum dolor sit amet, consectetur adipiscing\n",
            " elit. Phasellus luctus leo ut molestie sagittis. \n",
            "Ut id sem vitae augue tincidunt posuere efficitur \n",
            "vel mi. Vestibulum sollicitudin malesuada volutpat\n",
            ". Vivamus a odio nunc. Morbi et eros rhoncus, posu\n",
            "ere ipsum vehicula, consectetur turpis. Morbi sed \n",
            "vulputate arcu, id lacinia mauris. Proin metus nis\n",
            "l, sollicitudin non sollicitudin quis, aliquam eu \n",
            "sapien. Aenean gravida volutpat libero commodo mat\n",
            "tis. Praesent ultrices, velit sit amet elementum a\n",
            "ccumsan, nulla diam condimentum elit, a tristique \n",
            "sapien augue eget nunc. Suspendisse blandit enim m\n",
            "i, et tempor tellus iaculis vel.\n",
            "\n",
            "Sed lectus mauri\n",
            "s, tristique eu tincidunt tristique, rutrum eget l\n",
            "ibero. Proin id mauris auctor, sodales dolor id, s\n",
            "celerisque urna. Nunc sed dictum lacus. Aenean ven\n",
            "enatis quis velit sed ultrices. Aenean elementum e\n",
            "leifend nunc quis sagittis. Nunc bibendum orci sit\n",
            " amet elit mattis maximus. Nullam nec lectus at ma\n",
            "uris eleifend mollis in in quam.\n",
            "\n",
            "In et eleifend a\n",
            "ugue. Duis sodales tortor sed enim maximus, a pret\n",
            "ium diam laoreet. Fusce sed sapien ac ex sodales r\n",
            "utrum. Donec id eros nec sapien gravida dapibus so\n",
            "dales sed leo. Phasellus vel ligula id massa pulvi\n",
            "nar ullamcorper. Mauris mauris mauris, congue id e\n",
            "nim at, condimentum interdum metus. Maecenas solli\n",
            "citudin sapien ut blandit dapibus.\n",
            "\n",
            "Suspendisse co\n",
            "nsequat finibus nibh. Pellentesque ac condimentum \n",
            "tellus. Etiam interdum nibh vel massa semper feugi\n",
            "at. Fusce ut viverra urna. Praesent vel enim sapie\n",
            "n. Mauris nisl odio, luctus vitae sapien nec, rhon\n",
            "cus faucibus erat. Sed eu molestie quam, id tristi\n",
            "que turpis. Maecenas volutpat ex quis risus dictum\n",
            ", nec mattis nisi condimentum. Suspendisse consect\n",
            "etur, est eget tincidunt scelerisque, nulla mi sod\n",
            "ales metus, ac sagittis augue nunc sit amet nibh. \n",
            "Vestibulum viverra tempor nisi at dapibus. Nulla e\n",
            "leifend tortor tortor, quis accumsan elit venenati\n",
            "s pulvinar. Nulla pharetra non lorem vel accumsan.\n",
            " Nam malesuada lacus a metus faucibus, quis sagitt\n",
            "is quam lacinia. Nam ornare condimentum pulvinar. \n",
            "Suspendisse a magna interdum, luctus metus vel, ia\n",
            "culis erat. Praesent luctus eleifend feugiat.\n",
            "\n",
            "Sus\n",
            "pendisse potenti. Nunc nec cursus urna. Fusce iacu\n",
            "lis elit ac auctor sollicitudin. Proin quis lectus\n",
            " ut lacus placerat efficitur varius non dolor. Ut \n",
            "ullamcorper quam ut turpis placerat hendrerit. Sed\n",
            " id urna ut arcu vulputate facilisis eget ut tellu\n",
            "s. Vivamus cursus purus dignissim, porttitor quam \n",
            "vitae, aliquam arcu. Nam ac lorem et nunc lacinia \n",
            "lacinia vel non mi. Donec efficitur id diam sed or\n",
            "nare. Ut egestas sapien eget sem auctor auctor. Su\n",
            "spendisse mollis elit magna, sit amet efficitur en\n",
            "im bibendum eget. Suspendisse varius lorem vitae s\n",
            "apien efficitur, sed dignissim lacus lobortis\n"
          ]
        }
      ],
      "source": [
        "print(b)"
      ]
    },
    {
      "cell_type": "markdown",
      "id": "6b990013-6714-4c5c-b07e-4255a025ad36",
      "metadata": {
        "id": "6b990013-6714-4c5c-b07e-4255a025ad36"
      },
      "source": [
        "## Segunda seção"
      ]
    },
    {
      "cell_type": "code",
      "execution_count": null,
      "id": "a117141e-aaec-498b-9847-326963ee6dc2",
      "metadata": {
        "id": "a117141e-aaec-498b-9847-326963ee6dc2",
        "outputId": "dd355ca9-bf52-4d82-ca91-9f8cc1ff5a30"
      },
      "outputs": [
        {
          "name": "stdout",
          "output_type": "stream",
          "text": [
            "pois é\n"
          ]
        }
      ],
      "source": [
        "print('pois é')"
      ]
    },
    {
      "cell_type": "markdown",
      "id": "3e84d2d4-0294-4311-a2b9-e72487e5b727",
      "metadata": {
        "id": "3e84d2d4-0294-4311-a2b9-e72487e5b727"
      },
      "source": [
        "## Terceira seção"
      ]
    },
    {
      "cell_type": "code",
      "execution_count": null,
      "id": "27f653de-35e3-432c-b510-30deec8ec0ed",
      "metadata": {
        "id": "27f653de-35e3-432c-b510-30deec8ec0ed",
        "outputId": "44fb7963-afdb-4e6d-e4a7-1a33e695e9e7"
      },
      "outputs": [
        {
          "name": "stdout",
          "output_type": "stream",
          "text": [
            "nice!\n"
          ]
        }
      ],
      "source": [
        "print('nice!')"
      ]
    }
  ],
  "metadata": {
    "kernelspec": {
      "display_name": "Python 3 (ipykernel)",
      "language": "python",
      "name": "python3"
    },
    "language_info": {
      "codemirror_mode": {
        "name": "ipython",
        "version": 3
      },
      "file_extension": ".py",
      "mimetype": "text/x-python",
      "name": "python",
      "nbconvert_exporter": "python",
      "pygments_lexer": "ipython3",
      "version": "3.11.4"
    },
    "colab": {
      "provenance": [],
      "include_colab_link": true
    }
  },
  "nbformat": 4,
  "nbformat_minor": 5
}